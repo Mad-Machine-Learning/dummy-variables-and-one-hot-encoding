{
 "cells": [
  {
   "cell_type": "code",
   "execution_count": 1,
   "id": "7e27a13d",
   "metadata": {},
   "outputs": [],
   "source": [
    "import pandas as pd\n",
    "import numpy as np"
   ]
  },
  {
   "cell_type": "code",
   "execution_count": 3,
   "id": "f8d88b91",
   "metadata": {},
   "outputs": [
    {
     "data": {
      "text/html": [
       "<div>\n",
       "<style scoped>\n",
       "    .dataframe tbody tr th:only-of-type {\n",
       "        vertical-align: middle;\n",
       "    }\n",
       "\n",
       "    .dataframe tbody tr th {\n",
       "        vertical-align: top;\n",
       "    }\n",
       "\n",
       "    .dataframe thead th {\n",
       "        text-align: right;\n",
       "    }\n",
       "</style>\n",
       "<table border=\"1\" class=\"dataframe\">\n",
       "  <thead>\n",
       "    <tr style=\"text-align: right;\">\n",
       "      <th></th>\n",
       "      <th>Car Model</th>\n",
       "      <th>Mileage</th>\n",
       "      <th>Sell Price($)</th>\n",
       "      <th>Age(yrs)</th>\n",
       "    </tr>\n",
       "  </thead>\n",
       "  <tbody>\n",
       "    <tr>\n",
       "      <th>0</th>\n",
       "      <td>BMW X5</td>\n",
       "      <td>69000</td>\n",
       "      <td>18000</td>\n",
       "      <td>6</td>\n",
       "    </tr>\n",
       "    <tr>\n",
       "      <th>1</th>\n",
       "      <td>BMW X5</td>\n",
       "      <td>35000</td>\n",
       "      <td>34000</td>\n",
       "      <td>3</td>\n",
       "    </tr>\n",
       "    <tr>\n",
       "      <th>2</th>\n",
       "      <td>BMW X5</td>\n",
       "      <td>57000</td>\n",
       "      <td>26100</td>\n",
       "      <td>5</td>\n",
       "    </tr>\n",
       "    <tr>\n",
       "      <th>3</th>\n",
       "      <td>BMW X5</td>\n",
       "      <td>22500</td>\n",
       "      <td>40000</td>\n",
       "      <td>2</td>\n",
       "    </tr>\n",
       "    <tr>\n",
       "      <th>4</th>\n",
       "      <td>BMW X5</td>\n",
       "      <td>46000</td>\n",
       "      <td>31500</td>\n",
       "      <td>4</td>\n",
       "    </tr>\n",
       "    <tr>\n",
       "      <th>5</th>\n",
       "      <td>Audi A5</td>\n",
       "      <td>59000</td>\n",
       "      <td>29400</td>\n",
       "      <td>5</td>\n",
       "    </tr>\n",
       "    <tr>\n",
       "      <th>6</th>\n",
       "      <td>Audi A5</td>\n",
       "      <td>52000</td>\n",
       "      <td>32000</td>\n",
       "      <td>5</td>\n",
       "    </tr>\n",
       "    <tr>\n",
       "      <th>7</th>\n",
       "      <td>Audi A5</td>\n",
       "      <td>72000</td>\n",
       "      <td>19300</td>\n",
       "      <td>6</td>\n",
       "    </tr>\n",
       "    <tr>\n",
       "      <th>8</th>\n",
       "      <td>Audi A5</td>\n",
       "      <td>91000</td>\n",
       "      <td>12000</td>\n",
       "      <td>8</td>\n",
       "    </tr>\n",
       "    <tr>\n",
       "      <th>9</th>\n",
       "      <td>Mercedez Benz C class</td>\n",
       "      <td>67000</td>\n",
       "      <td>22000</td>\n",
       "      <td>6</td>\n",
       "    </tr>\n",
       "    <tr>\n",
       "      <th>10</th>\n",
       "      <td>Mercedez Benz C class</td>\n",
       "      <td>83000</td>\n",
       "      <td>20000</td>\n",
       "      <td>7</td>\n",
       "    </tr>\n",
       "    <tr>\n",
       "      <th>11</th>\n",
       "      <td>Mercedez Benz C class</td>\n",
       "      <td>79000</td>\n",
       "      <td>21000</td>\n",
       "      <td>7</td>\n",
       "    </tr>\n",
       "    <tr>\n",
       "      <th>12</th>\n",
       "      <td>Mercedez Benz C class</td>\n",
       "      <td>59000</td>\n",
       "      <td>33000</td>\n",
       "      <td>5</td>\n",
       "    </tr>\n",
       "  </tbody>\n",
       "</table>\n",
       "</div>"
      ],
      "text/plain": [
       "                Car Model  Mileage  Sell Price($)  Age(yrs)\n",
       "0                  BMW X5    69000          18000         6\n",
       "1                  BMW X5    35000          34000         3\n",
       "2                  BMW X5    57000          26100         5\n",
       "3                  BMW X5    22500          40000         2\n",
       "4                  BMW X5    46000          31500         4\n",
       "5                 Audi A5    59000          29400         5\n",
       "6                 Audi A5    52000          32000         5\n",
       "7                 Audi A5    72000          19300         6\n",
       "8                 Audi A5    91000          12000         8\n",
       "9   Mercedez Benz C class    67000          22000         6\n",
       "10  Mercedez Benz C class    83000          20000         7\n",
       "11  Mercedez Benz C class    79000          21000         7\n",
       "12  Mercedez Benz C class    59000          33000         5"
      ]
     },
     "execution_count": 3,
     "metadata": {},
     "output_type": "execute_result"
    }
   ],
   "source": [
    "df = pd.read_csv('carprices.csv')\n",
    "df"
   ]
  },
  {
   "cell_type": "code",
   "execution_count": 58,
   "id": "ce4f4a7b",
   "metadata": {},
   "outputs": [],
   "source": [
    "X = df.values"
   ]
  },
  {
   "cell_type": "code",
   "execution_count": 59,
   "id": "ae38bd74",
   "metadata": {},
   "outputs": [
    {
     "data": {
      "text/plain": [
       "array([['BMW X5', 69000, 18000, 6],\n",
       "       ['BMW X5', 35000, 34000, 3],\n",
       "       ['BMW X5', 57000, 26100, 5],\n",
       "       ['BMW X5', 22500, 40000, 2],\n",
       "       ['BMW X5', 46000, 31500, 4],\n",
       "       ['Audi A5', 59000, 29400, 5],\n",
       "       ['Audi A5', 52000, 32000, 5],\n",
       "       ['Audi A5', 72000, 19300, 6],\n",
       "       ['Audi A5', 91000, 12000, 8],\n",
       "       ['Mercedez Benz C class', 67000, 22000, 6],\n",
       "       ['Mercedez Benz C class', 83000, 20000, 7],\n",
       "       ['Mercedez Benz C class', 79000, 21000, 7],\n",
       "       ['Mercedez Benz C class', 59000, 33000, 5]], dtype=object)"
      ]
     },
     "execution_count": 59,
     "metadata": {},
     "output_type": "execute_result"
    }
   ],
   "source": [
    "X"
   ]
  },
  {
   "cell_type": "code",
   "execution_count": 60,
   "id": "11d34b8a",
   "metadata": {},
   "outputs": [],
   "source": [
    "from sklearn.preprocessing import OneHotEncoder\n",
    "ohe = OneHotEncoder()\n",
    "en = ohe.fit_transform(X[:,:1]).toarray()"
   ]
  },
  {
   "cell_type": "code",
   "execution_count": 61,
   "id": "b1ad299e",
   "metadata": {},
   "outputs": [
    {
     "data": {
      "text/plain": [
       "array([[0., 1., 0.],\n",
       "       [0., 1., 0.],\n",
       "       [0., 1., 0.],\n",
       "       [0., 1., 0.],\n",
       "       [0., 1., 0.],\n",
       "       [1., 0., 0.],\n",
       "       [1., 0., 0.],\n",
       "       [1., 0., 0.],\n",
       "       [1., 0., 0.],\n",
       "       [0., 0., 1.],\n",
       "       [0., 0., 1.],\n",
       "       [0., 0., 1.],\n",
       "       [0., 0., 1.]])"
      ]
     },
     "execution_count": 61,
     "metadata": {},
     "output_type": "execute_result"
    }
   ],
   "source": [
    "en"
   ]
  },
  {
   "cell_type": "code",
   "execution_count": 62,
   "id": "fcfcd99d",
   "metadata": {},
   "outputs": [],
   "source": [
    "en = en[:,1:]"
   ]
  },
  {
   "cell_type": "code",
   "execution_count": 63,
   "id": "d7645556",
   "metadata": {},
   "outputs": [
    {
     "data": {
      "text/plain": [
       "array([[1., 0.],\n",
       "       [1., 0.],\n",
       "       [1., 0.],\n",
       "       [1., 0.],\n",
       "       [1., 0.],\n",
       "       [0., 0.],\n",
       "       [0., 0.],\n",
       "       [0., 0.],\n",
       "       [0., 0.],\n",
       "       [0., 1.],\n",
       "       [0., 1.],\n",
       "       [0., 1.],\n",
       "       [0., 1.]])"
      ]
     },
     "execution_count": 63,
     "metadata": {},
     "output_type": "execute_result"
    }
   ],
   "source": [
    "en"
   ]
  },
  {
   "cell_type": "code",
   "execution_count": 64,
   "id": "64db3a47",
   "metadata": {},
   "outputs": [
    {
     "data": {
      "text/plain": [
       "array([[69000, 18000, 6],\n",
       "       [35000, 34000, 3],\n",
       "       [57000, 26100, 5],\n",
       "       [22500, 40000, 2],\n",
       "       [46000, 31500, 4],\n",
       "       [59000, 29400, 5],\n",
       "       [52000, 32000, 5],\n",
       "       [72000, 19300, 6],\n",
       "       [91000, 12000, 8],\n",
       "       [67000, 22000, 6],\n",
       "       [83000, 20000, 7],\n",
       "       [79000, 21000, 7],\n",
       "       [59000, 33000, 5]], dtype=object)"
      ]
     },
     "execution_count": 64,
     "metadata": {},
     "output_type": "execute_result"
    }
   ],
   "source": [
    "X[:,1:]"
   ]
  },
  {
   "cell_type": "code",
   "execution_count": 65,
   "id": "dd7d89ee",
   "metadata": {},
   "outputs": [],
   "source": [
    "merged = np.concatenate((X[:,1:],en), axis=1)"
   ]
  },
  {
   "cell_type": "code",
   "execution_count": 66,
   "id": "5f290d79",
   "metadata": {},
   "outputs": [
    {
     "data": {
      "text/plain": [
       "array([[69000, 18000, 6, 1.0, 0.0],\n",
       "       [35000, 34000, 3, 1.0, 0.0],\n",
       "       [57000, 26100, 5, 1.0, 0.0],\n",
       "       [22500, 40000, 2, 1.0, 0.0],\n",
       "       [46000, 31500, 4, 1.0, 0.0],\n",
       "       [59000, 29400, 5, 0.0, 0.0],\n",
       "       [52000, 32000, 5, 0.0, 0.0],\n",
       "       [72000, 19300, 6, 0.0, 0.0],\n",
       "       [91000, 12000, 8, 0.0, 0.0],\n",
       "       [67000, 22000, 6, 0.0, 1.0],\n",
       "       [83000, 20000, 7, 0.0, 1.0],\n",
       "       [79000, 21000, 7, 0.0, 1.0],\n",
       "       [59000, 33000, 5, 0.0, 1.0]], dtype=object)"
      ]
     },
     "execution_count": 66,
     "metadata": {},
     "output_type": "execute_result"
    }
   ],
   "source": [
    "merged"
   ]
  },
  {
   "cell_type": "code",
   "execution_count": 71,
   "id": "f4e71c70",
   "metadata": {},
   "outputs": [],
   "source": [
    "X = np.concatenate((merged[:,:1],merged[:,2:]), axis=1)\n",
    "y = merged[:,1]"
   ]
  },
  {
   "cell_type": "code",
   "execution_count": 72,
   "id": "eb978cee",
   "metadata": {},
   "outputs": [
    {
     "data": {
      "text/plain": [
       "array([[69000, 6, 1.0, 0.0],\n",
       "       [35000, 3, 1.0, 0.0],\n",
       "       [57000, 5, 1.0, 0.0],\n",
       "       [22500, 2, 1.0, 0.0],\n",
       "       [46000, 4, 1.0, 0.0],\n",
       "       [59000, 5, 0.0, 0.0],\n",
       "       [52000, 5, 0.0, 0.0],\n",
       "       [72000, 6, 0.0, 0.0],\n",
       "       [91000, 8, 0.0, 0.0],\n",
       "       [67000, 6, 0.0, 1.0],\n",
       "       [83000, 7, 0.0, 1.0],\n",
       "       [79000, 7, 0.0, 1.0],\n",
       "       [59000, 5, 0.0, 1.0]], dtype=object)"
      ]
     },
     "execution_count": 72,
     "metadata": {},
     "output_type": "execute_result"
    }
   ],
   "source": [
    "X"
   ]
  },
  {
   "cell_type": "code",
   "execution_count": 73,
   "id": "71f810fc",
   "metadata": {},
   "outputs": [
    {
     "data": {
      "text/plain": [
       "array([18000, 34000, 26100, 40000, 31500, 29400, 32000, 19300, 12000,\n",
       "       22000, 20000, 21000, 33000], dtype=object)"
      ]
     },
     "execution_count": 73,
     "metadata": {},
     "output_type": "execute_result"
    }
   ],
   "source": [
    "y"
   ]
  },
  {
   "cell_type": "code",
   "execution_count": 74,
   "id": "f2817e23",
   "metadata": {},
   "outputs": [],
   "source": [
    "from sklearn.linear_model import LinearRegression\n",
    "model = LinearRegression()\n",
    "trained_model = model.fit(X, y)"
   ]
  },
  {
   "cell_type": "code",
   "execution_count": 78,
   "id": "c95a442e",
   "metadata": {},
   "outputs": [
    {
     "data": {
      "text/plain": [
       "array([36991.31721061])"
      ]
     },
     "execution_count": 78,
     "metadata": {},
     "output_type": "execute_result"
    }
   ],
   "source": [
    "trained_model.predict([[45000,4,0,1]])"
   ]
  },
  {
   "cell_type": "code",
   "execution_count": 77,
   "id": "1ba00eb6",
   "metadata": {},
   "outputs": [
    {
     "data": {
      "text/plain": [
       "array([11080.74313219])"
      ]
     },
     "execution_count": 77,
     "metadata": {},
     "output_type": "execute_result"
    }
   ],
   "source": [
    "trained_model.predict([[86000,7,1,0]])"
   ]
  },
  {
   "cell_type": "code",
   "execution_count": 79,
   "id": "2259f58c",
   "metadata": {},
   "outputs": [
    {
     "data": {
      "text/plain": [
       "0.9417050937281083"
      ]
     },
     "execution_count": 79,
     "metadata": {},
     "output_type": "execute_result"
    }
   ],
   "source": [
    "trained_model.score(X, y)"
   ]
  },
  {
   "cell_type": "markdown",
   "id": "d65a5989",
   "metadata": {},
   "source": [
    "1. Price of a mercedez benz that is 4yrs old with mileage 45000 = USD36991.32\n",
    "2. Price of a BMW X5 that is 7yrs old with mileage 86000 = USD11080.74\n",
    "3. Accuracy of the model 0.94"
   ]
  },
  {
   "cell_type": "code",
   "execution_count": null,
   "id": "f6be23db",
   "metadata": {},
   "outputs": [],
   "source": []
  }
 ],
 "metadata": {
  "kernelspec": {
   "display_name": "Python 3",
   "language": "python",
   "name": "python3"
  },
  "language_info": {
   "codemirror_mode": {
    "name": "ipython",
    "version": 3
   },
   "file_extension": ".py",
   "mimetype": "text/x-python",
   "name": "python",
   "nbconvert_exporter": "python",
   "pygments_lexer": "ipython3",
   "version": "3.8.5"
  }
 },
 "nbformat": 4,
 "nbformat_minor": 5
}
